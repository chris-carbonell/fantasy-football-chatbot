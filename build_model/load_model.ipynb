{
 "cells": [
  {
   "cell_type": "markdown",
   "id": "a5a393ae-377f-42d2-9990-0633b57a8268",
   "metadata": {},
   "source": [
    "# Overview\n",
    "* load model<br>\n",
    "https://www.tensorflow.org/tutorials/keras/save_and_load#save_the_entire_model\n",
    "* pass to function"
   ]
  },
  {
   "cell_type": "markdown",
   "id": "4138acc3-8c3f-477f-911b-2524bb360db3",
   "metadata": {},
   "source": [
    "# Dependencies"
   ]
  },
  {
   "cell_type": "code",
   "execution_count": 1,
   "id": "283e1e9e-00ac-4828-8b81-633610a1e725",
   "metadata": {},
   "outputs": [],
   "source": [
    "# general\n",
    "from itertools import groupby\n",
    "import re\n",
    "\n",
    "# data\n",
    "import numpy as np\n",
    "\n",
    "# ml\n",
    "import tensorflow as tf\n",
    "from tensorflow import keras"
   ]
  },
  {
   "cell_type": "markdown",
   "id": "59046b7b-223f-431a-9ba9-e07c04410d2b",
   "metadata": {},
   "source": [
    "# Constants"
   ]
  },
  {
   "cell_type": "code",
   "execution_count": 2,
   "id": "95821af2-bfe2-4ab9-af69-b1126d0a26ef",
   "metadata": {},
   "outputs": [],
   "source": [
    "PATH_MODEL = \"../nba_api_chatbot/models/ner\"\n",
    "PATH_VOCABULARY = \"../nba_api_chatbot/data/vocabulary.txt\"\n",
    "\n",
    "MAPPING = {0: '[PAD]', 1: 'O', 2: 'B-PLAYER', 3: 'I-PLAYER', 4: 'B-STAT', 5: 'I-STAT'}  # via make_tag_lookup_table()"
   ]
  },
  {
   "cell_type": "markdown",
   "id": "a97c1725-8a27-40c4-a91a-59de0eb68b3b",
   "metadata": {},
   "source": [
    "# Load Model\n",
    "* https://stackoverflow.com/questions/48373845/loading-model-with-custom-loss-keras"
   ]
  },
  {
   "cell_type": "code",
   "execution_count": 3,
   "id": "fe5e247a-00cb-43d2-912a-3466debb9a80",
   "metadata": {},
   "outputs": [],
   "source": [
    "ner_model = keras.models.load_model(PATH_MODEL, compile=False)"
   ]
  },
  {
   "cell_type": "code",
   "execution_count": 4,
   "id": "88e047b8-06b1-4ecc-a085-81aa5623a381",
   "metadata": {},
   "outputs": [
    {
     "name": "stdout",
     "output_type": "stream",
     "text": [
      "Model: \"ner_model\"\n",
      "_________________________________________________________________\n",
      " Layer (type)                Output Shape              Param #   \n",
      "=================================================================\n",
      " token_and_position_embeddin  multiple                 644096    \n",
      " g (TokenAndPositionEmbeddin                                     \n",
      " g)                                                              \n",
      "                                                                 \n",
      " transformer_block (Transfor  multiple                 21120     \n",
      " merBlock)                                                       \n",
      "                                                                 \n",
      " dropout_2 (Dropout)         multiple                  0         \n",
      "                                                                 \n",
      " dense_2 (Dense)             multiple                  2112      \n",
      "                                                                 \n",
      " dropout_3 (Dropout)         multiple                  0         \n",
      "                                                                 \n",
      " dense_3 (Dense)             multiple                  390       \n",
      "                                                                 \n",
      "=================================================================\n",
      "Total params: 667,718\n",
      "Trainable params: 667,718\n",
      "Non-trainable params: 0\n",
      "_________________________________________________________________\n"
     ]
    }
   ],
   "source": [
    "ner_model.summary()"
   ]
  },
  {
   "cell_type": "code",
   "execution_count": 5,
   "id": "a473cf4e-e5a7-478b-b758-63fc2572fbe9",
   "metadata": {},
   "outputs": [],
   "source": [
    "# get vocabulary\n",
    "with open(PATH_VOCABULARY, \"r\") as f:\n",
    "    vocabulary = f.read().splitlines()"
   ]
  },
  {
   "cell_type": "code",
   "execution_count": 6,
   "id": "95410f7f-fd27-43af-8923-00133b510122",
   "metadata": {},
   "outputs": [],
   "source": [
    "# get lookup layer\n",
    "lookup_layer = keras.layers.StringLookup(\n",
    "    vocabulary=vocabulary\n",
    ")\n",
    "\n",
    "# process text input\n",
    "def tokenize_and_convert_to_ids(text):\n",
    "    tokens = text.split(\" \")\n",
    "    return lookup_layer(tf.strings.lower(tokens))"
   ]
  },
  {
   "cell_type": "markdown",
   "id": "e4a90d85-1983-4882-8d25-e4f702aaae9e",
   "metadata": {},
   "source": [
    "# Predict"
   ]
  },
  {
   "cell_type": "code",
   "execution_count": 7,
   "id": "b704f2c4-15f2-4743-9510-bddd7d78fdf7",
   "metadata": {},
   "outputs": [
    {
     "name": "stdout",
     "output_type": "stream",
     "text": [
      "tf.Tensor([[  1   2  19  23   5  90 108   3]], shape=(1, 8), dtype=int64)\n",
      "['O', 'O', 'B-STAT', 'I-STAT', 'O', 'B-PLAYER', 'I-PLAYER', 'O']\n"
     ]
    }
   ],
   "source": [
    "# Sample inference using the trained model\n",
    "\n",
    "text = \"How many field goals does Michael Jordan have?\"\n",
    "\n",
    "text_scrub = text.rstrip(\"?\")\n",
    "\n",
    "sample_input = tokenize_and_convert_to_ids(text_scrub)\n",
    "\n",
    "sample_input = tf.reshape(sample_input, shape=[1, -1])\n",
    "print(sample_input)\n",
    "\n",
    "output = ner_model.predict(sample_input)\n",
    "prediction = np.argmax(output, axis=-1)[0]\n",
    "prediction = [MAPPING[i] for i in prediction]\n",
    "\n",
    "# eu -> B-ORG, german -> B-MISC, british -> B-MISC\n",
    "print(prediction)"
   ]
  },
  {
   "cell_type": "markdown",
   "id": "9f69bb28-331b-4752-b5dd-c04c4531ed1b",
   "metadata": {},
   "source": [
    "# Extract"
   ]
  },
  {
   "cell_type": "code",
   "execution_count": 8,
   "id": "f166f1b8-8539-4809-8aeb-aa549a8a3ab6",
   "metadata": {},
   "outputs": [],
   "source": [
    "# regex = r\"(?<=-).*\"\n",
    "# res = []\n",
    "# i = 0\n",
    "# for tag, chunk in groupby(re.findall(regex, tag) for tag in prediction):\n",
    "    \n",
    "#     entity = []\n",
    "#     for j in chunk:\n",
    "#         # print(i, j)\n",
    "#         entity.append(tokens[i])\n",
    "#         i += 1\n",
    "    \n",
    "#     if tag != []:\n",
    "#         res.append((tag[0], \" \".join(entity)))\n",
    "\n",
    "# print(text)\n",
    "# print(prediction)\n",
    "# print(res)"
   ]
  },
  {
   "cell_type": "code",
   "execution_count": 9,
   "id": "0d8f3c8e-1736-4434-a2c6-8c4c0878e82a",
   "metadata": {},
   "outputs": [],
   "source": [
    "def extract_tagged_values(text, prediction):\n",
    "    \n",
    "    tokens = text.split(\" \")\n",
    "    \n",
    "    regex = r\"(?<=-).*\"  # get text after hyphen (e.g., \"STAT\" from \"B-STAT\")\n",
    "    \n",
    "    res = []\n",
    "    i = 0\n",
    "    for tag, chunk in groupby(re.findall(regex, tag) for tag in prediction):\n",
    "\n",
    "        if tag != []:\n",
    "            entity = []\n",
    "            for j in chunk:\n",
    "                # print(i, j)\n",
    "                entity.append(tokens[i])\n",
    "                i += 1\n",
    "\n",
    "            res.append((tag[0], \" \".join(entity)))\n",
    "            \n",
    "        else:\n",
    "            i += len(list(chunk))\n",
    "\n",
    "    return res"
   ]
  },
  {
   "cell_type": "code",
   "execution_count": 10,
   "id": "83aaafde-377c-4e6b-b70c-33baefbb32da",
   "metadata": {},
   "outputs": [
    {
     "data": {
      "text/plain": [
       "[('STAT', 'field goals'), ('PLAYER', 'Michael Jordan')]"
      ]
     },
     "execution_count": 10,
     "metadata": {},
     "output_type": "execute_result"
    }
   ],
   "source": [
    "res = extract_tagged_values(text, prediction)\n",
    "res"
   ]
  },
  {
   "cell_type": "code",
   "execution_count": 15,
   "id": "4c4856a9-b031-41b6-9546-2143753ae736",
   "metadata": {},
   "outputs": [
    {
     "data": {
      "text/plain": [
       "{'STAT': 'field goals', 'PLAYER': 'Michael Jordan'}"
      ]
     },
     "execution_count": 15,
     "metadata": {},
     "output_type": "execute_result"
    }
   ],
   "source": [
    "# convert to dictionary\n",
    "# assume only one of each\n",
    "# if not, just take the first one\n",
    "d_res = {}\n",
    "for tup in res:\n",
    "    if tup[0] not in d_res:\n",
    "        d_res[tup[0]] = tup[1]\n",
    "        \n",
    "d_res"
   ]
  },
  {
   "cell_type": "markdown",
   "id": "17811ed0-27f6-4b2e-9ea5-0bcade11712a",
   "metadata": {},
   "source": [
    "# Get NBA Data"
   ]
  },
  {
   "cell_type": "code",
   "execution_count": 16,
   "id": "c944e5ea-5d93-4d5f-a286-07751fa3f357",
   "metadata": {},
   "outputs": [],
   "source": [
    "from data import generate_data"
   ]
  },
  {
   "cell_type": "code",
   "execution_count": 14,
   "id": "f37c2cb9-45c4-4b1d-87fc-d4a884d884e3",
   "metadata": {},
   "outputs": [],
   "source": [
    "import importlib  \n",
    "nah = importlib.import_module(\"nba-api-chatbot.nba_api_helper\")"
   ]
  },
  {
   "cell_type": "code",
   "execution_count": 18,
   "id": "5667b966-3e75-404d-ae38-e9754e77048c",
   "metadata": {},
   "outputs": [
    {
     "data": {
      "text/plain": [
       "'FGM'"
      ]
     },
     "execution_count": 18,
     "metadata": {},
     "output_type": "execute_result"
    }
   ],
   "source": [
    "# get stat_col\n",
    "stat_col = generate_data.STATS_LOOKUP[d_res['STAT']]\n",
    "stat_col"
   ]
  },
  {
   "cell_type": "code",
   "execution_count": 19,
   "id": "edfa7d3f-f006-4854-aa0c-f6adc139a435",
   "metadata": {},
   "outputs": [
    {
     "name": "stderr",
     "output_type": "stream",
     "text": [
      "DEBUG:urllib3.connectionpool:Starting new HTTPS connection (1): stats.nba.com:443\n",
      "DEBUG:urllib3.connectionpool:https://stats.nba.com:443 \"GET /stats/playercareerstats?LeagueID=&PerMode=Totals&PlayerID=893 HTTP/1.1\" 200 3273\n"
     ]
    },
    {
     "data": {
      "text/plain": [
       "12192"
      ]
     },
     "execution_count": 19,
     "metadata": {},
     "output_type": "execute_result"
    }
   ],
   "source": [
    "nah.get_total_stat_for_one_player(\n",
    "    player_name=d_res['PLAYER'],\n",
    "    stat=stat_col\n",
    ")"
   ]
  }
 ],
 "metadata": {
  "kernelspec": {
   "display_name": "venv-nba-api-chatbot",
   "language": "python",
   "name": "venv-nba-api-chatbot"
  },
  "language_info": {
   "codemirror_mode": {
    "name": "ipython",
    "version": 3
   },
   "file_extension": ".py",
   "mimetype": "text/x-python",
   "name": "python",
   "nbconvert_exporter": "python",
   "pygments_lexer": "ipython3",
   "version": "3.9.7"
  }
 },
 "nbformat": 4,
 "nbformat_minor": 5
}
